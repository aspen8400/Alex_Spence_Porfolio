{
 "cells": [
  {
   "cell_type": "markdown",
   "metadata": {},
   "source": [
    "### Summary:\n",
    "\n",
    "In this notebook, we generate features using the review text as well as attributes durived from user and product data. For tokenization of reviews, please see \"Review Processing.ipynb\".  The exploratory analysis that underlies some of the features in this notebook can be found in \"EDA.ipynb\"."
   ]
  },
  {
   "cell_type": "code",
   "execution_count": 1,
   "metadata": {},
   "outputs": [],
   "source": [
    "import os\n",
    "\n",
    "# Packages for Data Manipulation\n",
    "import pandas as pd\n",
    "import numpy as np\n",
    "from scipy import sparse\n",
    "\n",
    "# Packages for Text Processing\n",
    "from sklearn.feature_extraction import text as tx\n",
    "import spacy\n",
    "import enchant\n"
   ]
  },
  {
   "cell_type": "code",
   "execution_count": 2,
   "metadata": {},
   "outputs": [],
   "source": [
    "# Use Enchant English Diction\n",
    "d = enchant.Dict(\"en_US\")\n"
   ]
  },
  {
   "cell_type": "markdown",
   "metadata": {},
   "source": [
    "### Import and review fields"
   ]
  },
  {
   "cell_type": "code",
   "execution_count": 28,
   "metadata": {},
   "outputs": [],
   "source": [
    "df_trn = pd.read_csv(os.path.join('data', 'train.csv'), parse_dates=['date'], index_col=['ex_id'])"
   ]
  },
  {
   "cell_type": "code",
   "execution_count": 29,
   "metadata": {},
   "outputs": [],
   "source": [
    "df_val = pd.read_csv(os.path.join('data', 'dev.csv'), parse_dates=['date'], index_col=['ex_id'])"
   ]
  },
  {
   "cell_type": "code",
   "execution_count": 30,
   "metadata": {},
   "outputs": [
    {
     "name": "stdout",
     "output_type": "stream",
     "text": [
      "<class 'pandas.core.frame.DataFrame'>\n",
      "Int64Index: 250874 entries, 0 to 358956\n",
      "Data columns (total 6 columns):\n",
      " #   Column   Non-Null Count   Dtype         \n",
      "---  ------   --------------   -----         \n",
      " 0   user_id  250874 non-null  int64         \n",
      " 1   prod_id  250874 non-null  int64         \n",
      " 2   rating   250874 non-null  float64       \n",
      " 3   label    250874 non-null  int64         \n",
      " 4   date     250874 non-null  datetime64[ns]\n",
      " 5   review   250874 non-null  object        \n",
      "dtypes: datetime64[ns](1), float64(1), int64(3), object(1)\n",
      "memory usage: 13.4+ MB\n"
     ]
    }
   ],
   "source": [
    "df_trn.info()"
   ]
  },
  {
   "cell_type": "code",
   "execution_count": 31,
   "metadata": {},
   "outputs": [
    {
     "data": {
      "text/html": [
       "<div>\n",
       "<style scoped>\n",
       "    .dataframe tbody tr th:only-of-type {\n",
       "        vertical-align: middle;\n",
       "    }\n",
       "\n",
       "    .dataframe tbody tr th {\n",
       "        vertical-align: top;\n",
       "    }\n",
       "\n",
       "    .dataframe thead th {\n",
       "        text-align: right;\n",
       "    }\n",
       "</style>\n",
       "<table border=\"1\" class=\"dataframe\">\n",
       "  <thead>\n",
       "    <tr style=\"text-align: right;\">\n",
       "      <th></th>\n",
       "      <th>user_id</th>\n",
       "      <th>prod_id</th>\n",
       "      <th>rating</th>\n",
       "      <th>label</th>\n",
       "    </tr>\n",
       "  </thead>\n",
       "  <tbody>\n",
       "    <tr>\n",
       "      <th>count</th>\n",
       "      <td>250874.000000</td>\n",
       "      <td>250874.000000</td>\n",
       "      <td>250874.000000</td>\n",
       "      <td>250874.000000</td>\n",
       "    </tr>\n",
       "    <tr>\n",
       "      <th>mean</th>\n",
       "      <td>53970.730446</td>\n",
       "      <td>459.778211</td>\n",
       "      <td>4.023717</td>\n",
       "      <td>0.102916</td>\n",
       "    </tr>\n",
       "    <tr>\n",
       "      <th>std</th>\n",
       "      <td>45803.665418</td>\n",
       "      <td>259.854178</td>\n",
       "      <td>1.056995</td>\n",
       "      <td>0.303850</td>\n",
       "    </tr>\n",
       "    <tr>\n",
       "      <th>min</th>\n",
       "      <td>923.000000</td>\n",
       "      <td>0.000000</td>\n",
       "      <td>1.000000</td>\n",
       "      <td>0.000000</td>\n",
       "    </tr>\n",
       "    <tr>\n",
       "      <th>25%</th>\n",
       "      <td>13820.000000</td>\n",
       "      <td>247.000000</td>\n",
       "      <td>4.000000</td>\n",
       "      <td>0.000000</td>\n",
       "    </tr>\n",
       "    <tr>\n",
       "      <th>50%</th>\n",
       "      <td>40485.500000</td>\n",
       "      <td>468.000000</td>\n",
       "      <td>4.000000</td>\n",
       "      <td>0.000000</td>\n",
       "    </tr>\n",
       "    <tr>\n",
       "      <th>75%</th>\n",
       "      <td>87298.000000</td>\n",
       "      <td>672.000000</td>\n",
       "      <td>5.000000</td>\n",
       "      <td>0.000000</td>\n",
       "    </tr>\n",
       "    <tr>\n",
       "      <th>max</th>\n",
       "      <td>161147.000000</td>\n",
       "      <td>922.000000</td>\n",
       "      <td>5.000000</td>\n",
       "      <td>1.000000</td>\n",
       "    </tr>\n",
       "  </tbody>\n",
       "</table>\n",
       "</div>"
      ],
      "text/plain": [
       "             user_id        prod_id         rating          label\n",
       "count  250874.000000  250874.000000  250874.000000  250874.000000\n",
       "mean    53970.730446     459.778211       4.023717       0.102916\n",
       "std     45803.665418     259.854178       1.056995       0.303850\n",
       "min       923.000000       0.000000       1.000000       0.000000\n",
       "25%     13820.000000     247.000000       4.000000       0.000000\n",
       "50%     40485.500000     468.000000       4.000000       0.000000\n",
       "75%     87298.000000     672.000000       5.000000       0.000000\n",
       "max    161147.000000     922.000000       5.000000       1.000000"
      ]
     },
     "execution_count": 31,
     "metadata": {},
     "output_type": "execute_result"
    }
   ],
   "source": [
    "df_trn.describe()"
   ]
  },
  {
   "cell_type": "code",
   "execution_count": null,
   "metadata": {},
   "outputs": [],
   "source": []
  },
  {
   "cell_type": "markdown",
   "metadata": {},
   "source": [
    "### Construct features based-on user and product characteristics"
   ]
  },
  {
   "cell_type": "code",
   "execution_count": 48,
   "metadata": {},
   "outputs": [],
   "source": [
    "def user_prod_features(df):\n",
    "    \n",
    "    \n",
    "    # setup blank dataframe for storing meta data\n",
    "    user_meta = pd.DataFrame(index=pd.Index(df['user_id'].unique(), name='user_id'))\n",
    "    prod_meta = pd.DataFrame(index=pd.Index(df['prod_id'].unique(), name='prod_id'))         \n",
    "\n",
    "    # append features related to user and/or producer\n",
    "    user_meta['user_n_reviews'] = df['user_id'].value_counts()\n",
    "    prod_meta['prod_n_reviews'] = df['prod_id'].value_counts()\n",
    "    user_meta['user_avg_rating'] = df.set_index('user_id').groupby(level=0)['rating'].mean()\n",
    "    prod_meta['prod_avg_rating'] = df.set_index('prod_id').groupby(level=0)['rating'].mean()\n",
    "    user_meta['user_first_date'] = df.set_index('user_id').groupby(level=0)['date'].min()\n",
    "    prod_meta['prod_first_date'] = df.set_index('prod_id').groupby(level=0)['date'].min()\n",
    "    user_meta['user_last_date'] = df.set_index('user_id').groupby(level=0)['date'].max()\n",
    "    prod_meta['prod_last_date'] = df.set_index('prod_id').groupby(level=0)['date'].max()  \n",
    "      \n",
    "    user_meta['user_review_intensity'] = user_meta['user_n_reviews'] / (1+(user_meta['user_last_date'] - user_meta['user_first_date'])/pd.Timedelta('1d'))\n",
    "    prod_meta['prod_review_intensity'] = prod_meta['prod_n_reviews'] / (1+(prod_meta['prod_last_date'] - prod_meta['prod_first_date'])/pd.Timedelta('1d'))\n",
    "    \n",
    "    # join user and prod-based features back to examples\n",
    "    features = pd.DataFrame(df.loc[:, ['user_id', 'prod_id']]).reset_index()\n",
    "    features = features.merge(user_meta.loc[:, ['user_n_reviews',\n",
    "                                                'user_avg_rating', \n",
    "                                                'user_review_intensity']].reset_index(), on='user_id', how='left')\n",
    "    features = features.merge(prod_meta.loc[:, ['prod_n_reviews',\n",
    "                                                'prod_avg_rating', \n",
    "                                                'prod_review_intensity']].reset_index(), on='prod_id', how='left')\n",
    "    features.set_index('ex_id', inplace=True)\n",
    "    return features, prod_meta, user_meta\n",
    "    "
   ]
  },
  {
   "cell_type": "code",
   "execution_count": 49,
   "metadata": {},
   "outputs": [],
   "source": [
    "up_feats_trn, prod_meta, user_meta = user_prod_features(df_trn)"
   ]
  },
  {
   "cell_type": "code",
   "execution_count": 50,
   "metadata": {},
   "outputs": [
    {
     "name": "stdout",
     "output_type": "stream",
     "text": [
      "<class 'pandas.core.frame.DataFrame'>\n",
      "Int64Index: 250874 entries, 0 to 358956\n",
      "Data columns (total 8 columns):\n",
      " #   Column                 Non-Null Count   Dtype  \n",
      "---  ------                 --------------   -----  \n",
      " 0   user_id                250874 non-null  int64  \n",
      " 1   prod_id                250874 non-null  int64  \n",
      " 2   user_n_reviews         250874 non-null  int64  \n",
      " 3   user_avg_rating        250874 non-null  float64\n",
      " 4   user_review_intensity  250874 non-null  float64\n",
      " 5   prod_n_reviews         250874 non-null  int64  \n",
      " 6   prod_avg_rating        250874 non-null  float64\n",
      " 7   prod_review_intensity  250874 non-null  float64\n",
      "dtypes: float64(4), int64(4)\n",
      "memory usage: 17.2 MB\n"
     ]
    }
   ],
   "source": [
    "# confirm perfect coverage of all metrics\n",
    "up_feats_trn.info()"
   ]
  },
  {
   "cell_type": "code",
   "execution_count": null,
   "metadata": {},
   "outputs": [],
   "source": []
  },
  {
   "cell_type": "markdown",
   "metadata": {},
   "source": [
    "### Generate Additional Features on Training Set"
   ]
  },
  {
   "cell_type": "markdown",
   "metadata": {},
   "source": [
    "#### Summary Features Derived from Text"
   ]
  },
  {
   "cell_type": "code",
   "execution_count": null,
   "metadata": {},
   "outputs": [],
   "source": [
    "# Train count vectorizer on training data\n",
    "count_trans = tx.CountVectorizer(strip_accents='unicode').fit(df_trn['review'])\n",
    "count_vect = count_trans.transform(df_trn['review'])"
   ]
  },
  {
   "cell_type": "code",
   "execution_count": 34,
   "metadata": {},
   "outputs": [],
   "source": [
    "# Total number of words in a review\n",
    "df_trn['word_count'] = count_vect.sum(axis=1)\n"
   ]
  },
  {
   "cell_type": "code",
   "execution_count": 35,
   "metadata": {},
   "outputs": [],
   "source": [
    "# pct of english words in review\n",
    "en_words = [z for z in count_trans.vocabulary_.keys() if d.check(z)]\n",
    "en_idx = [count_trans.vocabulary_[z] for z in en_words]\n"
   ]
  },
  {
   "cell_type": "code",
   "execution_count": 36,
   "metadata": {},
   "outputs": [
    {
     "name": "stderr",
     "output_type": "stream",
     "text": [
      "C:\\Users\\tfconnor\\Anaconda3\\envs\\DEFAULT\\lib\\site-packages\\ipykernel_launcher.py:1: RuntimeWarning:\n",
      "\n",
      "invalid value encountered in true_divide\n",
      "\n"
     ]
    }
   ],
   "source": [
    "df_trn['pct_en'] = 100*count_vect[:, en_idx].sum(axis=1)/count_vect.sum(axis=1)\n",
    "df_trn['pct_en'] = df_trn['pct_en'].fillna(0)"
   ]
  },
  {
   "cell_type": "code",
   "execution_count": 14,
   "metadata": {},
   "outputs": [
    {
     "name": "stdout",
     "output_type": "stream",
     "text": [
      "<class 'pandas.core.frame.DataFrame'>\n",
      "Int64Index: 250874 entries, 0 to 358956\n",
      "Data columns (total 8 columns):\n",
      " #   Column      Non-Null Count   Dtype         \n",
      "---  ------      --------------   -----         \n",
      " 0   user_id     250874 non-null  int64         \n",
      " 1   prod_id     250874 non-null  int64         \n",
      " 2   rating      250874 non-null  float64       \n",
      " 3   label       250874 non-null  int64         \n",
      " 4   date        250874 non-null  datetime64[ns]\n",
      " 5   review      250874 non-null  object        \n",
      " 6   word_count  250874 non-null  int64         \n",
      " 7   pct_en      250874 non-null  float64       \n",
      "dtypes: datetime64[ns](1), float64(2), int64(4), object(1)\n",
      "memory usage: 17.2+ MB\n"
     ]
    }
   ],
   "source": [
    "df_trn.info()"
   ]
  },
  {
   "cell_type": "markdown",
   "metadata": {},
   "source": [
    "#### Combine all features"
   ]
  },
  {
   "cell_type": "code",
   "execution_count": null,
   "metadata": {},
   "outputs": [],
   "source": [
    "df_train = up_feats_trn.drop(columns=['user_id', 'prod_id']).join(df_trn.loc[:, ['word_count', 'pct_en']])"
   ]
  },
  {
   "cell_type": "code",
   "execution_count": null,
   "metadata": {},
   "outputs": [],
   "source": [
    "df_train.info()"
   ]
  },
  {
   "cell_type": "code",
   "execution_count": null,
   "metadata": {},
   "outputs": [],
   "source": [
    "# Combine and output features\n",
    "df_train.join(df_trn['label']).to_csv('df_train.csv')"
   ]
  },
  {
   "cell_type": "markdown",
   "metadata": {},
   "source": [
    "### Generate Additional Features on Validation Set"
   ]
  },
  {
   "cell_type": "markdown",
   "metadata": {},
   "source": [
    "#### Summary Features Derived from Text"
   ]
  },
  {
   "cell_type": "code",
   "execution_count": 55,
   "metadata": {},
   "outputs": [],
   "source": [
    "count_trans = tx.CountVectorizer(strip_accents='unicode').fit(df_val['review'])\n",
    "count_vect = count_trans.transform(df_val['review'])"
   ]
  },
  {
   "cell_type": "code",
   "execution_count": 58,
   "metadata": {},
   "outputs": [],
   "source": [
    "df_val['word_count'] = count_vect.sum(axis=1)"
   ]
  },
  {
   "cell_type": "code",
   "execution_count": 59,
   "metadata": {},
   "outputs": [],
   "source": [
    "# pct of english words in review\n",
    "en_words = [z for z in count_trans.vocabulary_.keys() if d.check(z)]\n",
    "en_idx = [count_trans.vocabulary_[z] for z in en_words]"
   ]
  },
  {
   "cell_type": "code",
   "execution_count": 60,
   "metadata": {},
   "outputs": [
    {
     "name": "stderr",
     "output_type": "stream",
     "text": [
      "C:\\Users\\tfconnor\\Anaconda3\\envs\\DEFAULT\\lib\\site-packages\\ipykernel_launcher.py:1: RuntimeWarning:\n",
      "\n",
      "invalid value encountered in true_divide\n",
      "\n"
     ]
    }
   ],
   "source": [
    "df_val['pct_en'] = 100*count_vect[:, en_idx].sum(axis=1)/count_vect.sum(axis=1)\n",
    "df_val['pct_en'] = df_val['pct_en'].fillna(0)"
   ]
  },
  {
   "cell_type": "markdown",
   "metadata": {},
   "source": [
    "#### Combine All Features"
   ]
  },
  {
   "cell_type": "code",
   "execution_count": null,
   "metadata": {},
   "outputs": [],
   "source": [
    "up_feats_val, prod_meta, user_meta = user_prod_features(df_val)"
   ]
  },
  {
   "cell_type": "code",
   "execution_count": 61,
   "metadata": {},
   "outputs": [],
   "source": [
    "df_valid = up_feats_val.drop(columns=['user_id', 'prod_id']).join(df_val.loc[:, ['word_count', 'pct_en']])"
   ]
  },
  {
   "cell_type": "code",
   "execution_count": 62,
   "metadata": {},
   "outputs": [
    {
     "name": "stdout",
     "output_type": "stream",
     "text": [
      "<class 'pandas.core.frame.DataFrame'>\n",
      "Int64Index: 35918 entries, 11 to 358935\n",
      "Data columns (total 8 columns):\n",
      " #   Column                 Non-Null Count  Dtype  \n",
      "---  ------                 --------------  -----  \n",
      " 0   user_n_reviews         35918 non-null  int64  \n",
      " 1   user_avg_rating        35918 non-null  float64\n",
      " 2   user_review_intensity  35918 non-null  float64\n",
      " 3   prod_n_reviews         35918 non-null  int64  \n",
      " 4   prod_avg_rating        35918 non-null  float64\n",
      " 5   prod_review_intensity  35918 non-null  float64\n",
      " 6   word_count             35918 non-null  int64  \n",
      " 7   pct_en                 35918 non-null  float64\n",
      "dtypes: float64(5), int64(3)\n",
      "memory usage: 3.7 MB\n"
     ]
    }
   ],
   "source": [
    "df_valid.info()"
   ]
  },
  {
   "cell_type": "code",
   "execution_count": 64,
   "metadata": {},
   "outputs": [],
   "source": [
    "df_valid.join(df_val['label']).to_csv('df_valid.csv')"
   ]
  },
  {
   "cell_type": "code",
   "execution_count": null,
   "metadata": {},
   "outputs": [],
   "source": []
  }
 ],
 "metadata": {
  "kernelspec": {
   "display_name": "Python [conda env:DEFAULT]",
   "language": "python",
   "name": "conda-env-DEFAULT-py"
  },
  "language_info": {
   "codemirror_mode": {
    "name": "ipython",
    "version": 3
   },
   "file_extension": ".py",
   "mimetype": "text/x-python",
   "name": "python",
   "nbconvert_exporter": "python",
   "pygments_lexer": "ipython3",
   "version": "3.7.7"
  }
 },
 "nbformat": 4,
 "nbformat_minor": 2
}
