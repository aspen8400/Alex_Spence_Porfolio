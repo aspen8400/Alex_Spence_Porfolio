{
 "cells": [
  {
   "cell_type": "code",
   "execution_count": 10,
   "metadata": {},
   "outputs": [],
   "source": [
    "import pandas as pd\n",
    "import numpy as np\n",
    "import os\n",
    "import plotly.express as px\n",
    "import matplotlib.pyplot as plt\n",
    "from sklearn.feature_extraction import text as tx\n",
    "from scipy.sparse import coo_matrix, hstack\n",
    "import langdetect as ld\n",
    "import nltk\n",
    "from nltk.corpus import words as nltk_words #need to download corpus using nltk.download() prior to use\n",
    "import enchant\n"
   ]
  },
  {
   "cell_type": "code",
   "execution_count": null,
   "metadata": {},
   "outputs": [],
   "source": [
    "# Use Enchant English Dictionary\n",
    "d = enchant.Dict(\"en_US\")\n",
    "plt.style.use('seaborn-darkgrid')\n",
    "%matplotlib inline\n"
   ]
  },
  {
   "cell_type": "code",
   "execution_count": null,
   "metadata": {},
   "outputs": [],
   "source": [
    "df = pd.read_csv(os.path.join('data', 'train.csv'), parse_dates=['date'], index_col=['ex_id'])"
   ]
  },
  {
   "cell_type": "code",
   "execution_count": null,
   "metadata": {},
   "outputs": [],
   "source": []
  },
  {
   "cell_type": "markdown",
   "metadata": {},
   "source": [
    "### Target Distribution"
   ]
  },
  {
   "cell_type": "code",
   "execution_count": 223,
   "metadata": {},
   "outputs": [
    {
     "data": {
      "image/png": "[encoded data removed]",
      "text/plain": [
       "<Figure size 432x288 with 1 Axes>"
      ]
     },
     "metadata": {
      "needs_background": "light"
     },
     "output_type": "display_data"
    }
   ],
   "source": [
    "(100*df['label'].value_counts()/len(df)).rename({0:'Real', 1:'Fake'}).plot.bar(title='Percent of Fake Reviews');"
   ]
  },
  {
   "cell_type": "code",
   "execution_count": null,
   "metadata": {},
   "outputs": [],
   "source": []
  },
  {
   "cell_type": "code",
   "execution_count": null,
   "metadata": {},
   "outputs": [],
   "source": [
    "# Are fake reviews linked to reviewers?"
   ]
  },
  {
   "cell_type": "code",
   "execution_count": 254,
   "metadata": {},
   "outputs": [],
   "source": [
    "pct_fake_user = 100*df.groupby('user_id')['label'].sum()/df.groupby('user_id')['label'].count()"
   ]
  },
  {
   "cell_type": "code",
   "execution_count": 255,
   "metadata": {},
   "outputs": [
    {
     "data": {
      "image/png": "[encoded data removed]",
      "text/plain": [
       "<Figure size 432x288 with 1 Axes>"
      ]
     },
     "metadata": {
      "needs_background": "light"
     },
     "output_type": "display_data"
    }
   ],
   "source": [
    "pct_fake_user.plot.hist(title='Histogram of Reviewers and their Fake Reviews');"
   ]
  },
  {
   "cell_type": "code",
   "execution_count": 256,
   "metadata": {},
   "outputs": [
    {
     "data": {
      "text/plain": [
       "0.000000      83.285990\n",
       "100.000000    16.394943\n",
       "50.000000      0.136061\n",
       "33.333333      0.053310\n",
       "25.000000      0.027849\n",
       "20.000000      0.014322\n",
       "66.666667      0.013527\n",
       "16.666667      0.012731\n",
       "12.500000      0.007161\n",
       "8.333333       0.004774\n",
       "14.285714      0.003978\n",
       "11.111111      0.003978\n",
       "10.000000      0.002387\n",
       "75.000000      0.002387\n",
       "40.000000      0.002387\n",
       "9.090909       0.002387\n",
       "4.545455       0.002387\n",
       "3.571429       0.001591\n",
       "60.000000      0.001591\n",
       "7.692308       0.001591\n",
       "83.333333      0.001591\n",
       "18.181818      0.001591\n",
       "7.142857       0.000796\n",
       "3.846154       0.000796\n",
       "27.272727      0.000796\n",
       "5.882353       0.000796\n",
       "80.000000      0.000796\n",
       "5.263158       0.000796\n",
       "44.444444      0.000796\n",
       "72.222222      0.000796\n",
       "4.081633       0.000796\n",
       "7.407407       0.000796\n",
       "90.909091      0.000796\n",
       "41.176471      0.000796\n",
       "34.883721      0.000796\n",
       "52.173913      0.000796\n",
       "54.545455      0.000796\n",
       "60.869565      0.000796\n",
       "91.666667      0.000796\n",
       "13.333333      0.000796\n",
       "67.741935      0.000796\n",
       "3.703704       0.000796\n",
       "53.571429      0.000796\n",
       "6.250000       0.000796\n",
       "21.739130      0.000796\n",
       "3.030303       0.000796\n",
       "18.000000      0.000796\n",
       "22.727273      0.000796\n",
       "28.571429      0.000796\n",
       "Name: label, dtype: float64"
      ]
     },
     "execution_count": 256,
     "metadata": {},
     "output_type": "execute_result"
    }
   ],
   "source": [
    "100*pct_fake_user.value_counts()/len(pct_fake_user)"
   ]
  },
  {
   "cell_type": "markdown",
   "metadata": {},
   "source": [
    "Rather than targetting reviews, we could potentially structure this as a problem to identify bad users."
   ]
  },
  {
   "cell_type": "code",
   "execution_count": null,
   "metadata": {},
   "outputs": [],
   "source": []
  },
  {
   "cell_type": "code",
   "execution_count": null,
   "metadata": {},
   "outputs": [],
   "source": [
    "# How does the distribution look for products?"
   ]
  },
  {
   "cell_type": "code",
   "execution_count": 257,
   "metadata": {},
   "outputs": [],
   "source": [
    "pct_fake_prod = 100*df.groupby('prod_id')['label'].sum()/df.groupby('prod_id')['label'].count()"
   ]
  },
  {
   "cell_type": "code",
   "execution_count": 258,
   "metadata": {},
   "outputs": [
    {
     "data": {
      "image/png": "[encoded data removed]",
      "text/plain": [
       "<Figure size 432x288 with 1 Axes>"
      ]
     },
     "metadata": {
      "needs_background": "light"
     },
     "output_type": "display_data"
    }
   ],
   "source": [
    "pct_fake_prod.plot.hist(title='Histogram of Reviewers and their Fake Reviews');"
   ]
  },
  {
   "cell_type": "code",
   "execution_count": 259,
   "metadata": {},
   "outputs": [
    {
     "data": {
      "text/plain": [
       "0.000000     2.166847\n",
       "11.111111    0.975081\n",
       "10.000000    0.975081\n",
       "6.666667     0.866739\n",
       "9.090909     0.758397\n",
       "               ...   \n",
       "2.127660     0.108342\n",
       "15.068493    0.108342\n",
       "2.777778     0.108342\n",
       "10.972569    0.108342\n",
       "10.301109    0.108342\n",
       "Name: label, Length: 672, dtype: float64"
      ]
     },
     "execution_count": 259,
     "metadata": {},
     "output_type": "execute_result"
    }
   ],
   "source": [
    "100*pct_fake_prod.value_counts()/len(pct_fake_prod)"
   ]
  },
  {
   "cell_type": "markdown",
   "metadata": {},
   "source": [
    "The link between real and fake reviews is less strong than I would've expected. Perhaps that's because fake reviews lead real reviews?"
   ]
  },
  {
   "cell_type": "code",
   "execution_count": 260,
   "metadata": {},
   "outputs": [],
   "source": [
    "prod_meta = pd.DataFrame(index=df['prod_id'].unique())"
   ]
  },
  {
   "cell_type": "code",
   "execution_count": 261,
   "metadata": {},
   "outputs": [],
   "source": [
    "prod_meta['prod_first_date'] = df.set_index('prod_id').groupby(level=0)['date'].min()\n",
    "prod_meta['prod_last_date'] = df.set_index('prod_id').groupby(level=0)['date'].max()  "
   ]
  },
  {
   "cell_type": "code",
   "execution_count": 263,
   "metadata": {},
   "outputs": [
    {
     "data": {
      "text/plain": [
       "0"
      ]
     },
     "execution_count": 263,
     "metadata": {},
     "output_type": "execute_result"
    }
   ],
   "source": [
    "# No Products have only 1 date!\n",
    "(prod_meta['prod_first_date'] == prod_meta['prod_last_date']).sum()"
   ]
  },
  {
   "cell_type": "markdown",
   "metadata": {},
   "source": [
    "However, should probably still account for that potential corner case in the validation and/or test set"
   ]
  },
  {
   "cell_type": "code",
   "execution_count": 273,
   "metadata": {},
   "outputs": [
    {
     "name": "stdout",
     "output_type": "stream",
     "text": [
      "<class 'pandas.core.frame.DataFrame'>\n",
      "Int64Index: 250874 entries, 0 to 250873\n",
      "Data columns (total 12 columns):\n",
      " #   Column           Non-Null Count   Dtype         \n",
      "---  ------           --------------   -----         \n",
      " 0   user_id          250874 non-null  int64         \n",
      " 1   prod_id          250874 non-null  int64         \n",
      " 2   rating           250874 non-null  float64       \n",
      " 3   label            250874 non-null  int64         \n",
      " 4   date             250874 non-null  datetime64[ns]\n",
      " 5   review           250874 non-null  object        \n",
      " 6   lang             250874 non-null  object        \n",
      " 7   lang_conf        250850 non-null  float64       \n",
      " 8   pct_en           250841 non-null  float64       \n",
      " 9   word_count       250874 non-null  int64         \n",
      " 10  prod_first_date  250874 non-null  datetime64[ns]\n",
      " 11  prod_last_date   250874 non-null  datetime64[ns]\n",
      "dtypes: datetime64[ns](3), float64(3), int64(4), object(2)\n",
      "memory usage: 34.9+ MB\n"
     ]
    }
   ],
   "source": [
    "df.info()"
   ]
  },
  {
   "cell_type": "code",
   "execution_count": 270,
   "metadata": {},
   "outputs": [],
   "source": [
    "df = df.merge(prod_meta.reset_index(), left_on='prod_id', right_on='index', how='left').drop(columns='index')"
   ]
  },
  {
   "cell_type": "code",
   "execution_count": 283,
   "metadata": {},
   "outputs": [],
   "source": [
    "df['pct_from_start'] = (df['date']-df['prod_first_date'])/(df['prod_last_date']-df['prod_first_date'])\n",
    "df['pct_from_start'] = 100*df['pct_from_start']"
   ]
  },
  {
   "cell_type": "code",
   "execution_count": 287,
   "metadata": {},
   "outputs": [
    {
     "data": {
      "text/html": [
       "<div>\n",
       "<style scoped>\n",
       "    .dataframe tbody tr th:only-of-type {\n",
       "        vertical-align: middle;\n",
       "    }\n",
       "\n",
       "    .dataframe tbody tr th {\n",
       "        vertical-align: top;\n",
       "    }\n",
       "\n",
       "    .dataframe thead th {\n",
       "        text-align: right;\n",
       "    }\n",
       "</style>\n",
       "<table border=\"1\" class=\"dataframe\">\n",
       "  <thead>\n",
       "    <tr style=\"text-align: right;\">\n",
       "      <th></th>\n",
       "      <th>count</th>\n",
       "      <th>mean</th>\n",
       "      <th>std</th>\n",
       "      <th>min</th>\n",
       "      <th>25%</th>\n",
       "      <th>50%</th>\n",
       "      <th>75%</th>\n",
       "      <th>max</th>\n",
       "    </tr>\n",
       "    <tr>\n",
       "      <th>label</th>\n",
       "      <th></th>\n",
       "      <th></th>\n",
       "      <th></th>\n",
       "      <th></th>\n",
       "      <th></th>\n",
       "      <th></th>\n",
       "      <th></th>\n",
       "      <th></th>\n",
       "    </tr>\n",
       "  </thead>\n",
       "  <tbody>\n",
       "    <tr>\n",
       "      <th>0</th>\n",
       "      <td>225055.0</td>\n",
       "      <td>59.751486</td>\n",
       "      <td>27.030930</td>\n",
       "      <td>0.0</td>\n",
       "      <td>39.666866</td>\n",
       "      <td>62.825166</td>\n",
       "      <td>83.121071</td>\n",
       "      <td>100.0</td>\n",
       "    </tr>\n",
       "    <tr>\n",
       "      <th>1</th>\n",
       "      <td>25819.0</td>\n",
       "      <td>59.481061</td>\n",
       "      <td>28.144838</td>\n",
       "      <td>0.0</td>\n",
       "      <td>39.778870</td>\n",
       "      <td>63.477995</td>\n",
       "      <td>83.675138</td>\n",
       "      <td>100.0</td>\n",
       "    </tr>\n",
       "  </tbody>\n",
       "</table>\n",
       "</div>"
      ],
      "text/plain": [
       "          count       mean        std  min        25%        50%        75%  \\\n",
       "label                                                                         \n",
       "0      225055.0  59.751486  27.030930  0.0  39.666866  62.825166  83.121071   \n",
       "1       25819.0  59.481061  28.144838  0.0  39.778870  63.477995  83.675138   \n",
       "\n",
       "         max  \n",
       "label         \n",
       "0      100.0  \n",
       "1      100.0  "
      ]
     },
     "execution_count": 287,
     "metadata": {},
     "output_type": "execute_result"
    }
   ],
   "source": [
    "df.groupby('label')['pct_from_start'].describe()"
   ]
  },
  {
   "cell_type": "markdown",
   "metadata": {},
   "source": [
    "There does not appear to be an obvious relationship between the time of the review and whether or not it was fake."
   ]
  },
  {
   "cell_type": "code",
   "execution_count": 288,
   "metadata": {},
   "outputs": [],
   "source": [
    "df['days_from_start'] = (df['date']-df['prod_first_date'])"
   ]
  },
  {
   "cell_type": "code",
   "execution_count": 289,
   "metadata": {},
   "outputs": [
    {
     "data": {
      "text/html": [
       "<div>\n",
       "<style scoped>\n",
       "    .dataframe tbody tr th:only-of-type {\n",
       "        vertical-align: middle;\n",
       "    }\n",
       "\n",
       "    .dataframe tbody tr th {\n",
       "        vertical-align: top;\n",
       "    }\n",
       "\n",
       "    .dataframe thead th {\n",
       "        text-align: right;\n",
       "    }\n",
       "</style>\n",
       "<table border=\"1\" class=\"dataframe\">\n",
       "  <thead>\n",
       "    <tr style=\"text-align: right;\">\n",
       "      <th></th>\n",
       "      <th>count</th>\n",
       "      <th>mean</th>\n",
       "      <th>std</th>\n",
       "      <th>min</th>\n",
       "      <th>25%</th>\n",
       "      <th>50%</th>\n",
       "      <th>75%</th>\n",
       "      <th>max</th>\n",
       "    </tr>\n",
       "    <tr>\n",
       "      <th>label</th>\n",
       "      <th></th>\n",
       "      <th></th>\n",
       "      <th></th>\n",
       "      <th></th>\n",
       "      <th></th>\n",
       "      <th></th>\n",
       "      <th></th>\n",
       "      <th></th>\n",
       "    </tr>\n",
       "  </thead>\n",
       "  <tbody>\n",
       "    <tr>\n",
       "      <th>0</th>\n",
       "      <td>225055</td>\n",
       "      <td>1454 days 10:08:45.599520</td>\n",
       "      <td>963 days 04:36:30.270269</td>\n",
       "      <td>0 days</td>\n",
       "      <td>598 days 00:00:00</td>\n",
       "      <td>1366 days</td>\n",
       "      <td>2234 days</td>\n",
       "      <td>3730 days</td>\n",
       "    </tr>\n",
       "    <tr>\n",
       "      <th>1</th>\n",
       "      <td>25819</td>\n",
       "      <td>1514 days 15:25:43.096167</td>\n",
       "      <td>1011 days 21:09:14.664223</td>\n",
       "      <td>0 days</td>\n",
       "      <td>571 days 12:00:00</td>\n",
       "      <td>1485 days</td>\n",
       "      <td>2362 days</td>\n",
       "      <td>3725 days</td>\n",
       "    </tr>\n",
       "  </tbody>\n",
       "</table>\n",
       "</div>"
      ],
      "text/plain": [
       "        count                      mean                       std    min  \\\n",
       "label                                                                      \n",
       "0      225055 1454 days 10:08:45.599520  963 days 04:36:30.270269 0 days   \n",
       "1       25819 1514 days 15:25:43.096167 1011 days 21:09:14.664223 0 days   \n",
       "\n",
       "                    25%       50%       75%       max  \n",
       "label                                                  \n",
       "0     598 days 00:00:00 1366 days 2234 days 3730 days  \n",
       "1     571 days 12:00:00 1485 days 2362 days 3725 days  "
      ]
     },
     "execution_count": 289,
     "metadata": {},
     "output_type": "execute_result"
    }
   ],
   "source": [
    "df.groupby('label')['days_from_start'].describe()"
   ]
  },
  {
   "cell_type": "code",
   "execution_count": 285,
   "metadata": {},
   "outputs": [],
   "source": []
  },
  {
   "cell_type": "markdown",
   "metadata": {},
   "source": [
    "### Review Distribution"
   ]
  },
  {
   "cell_type": "code",
   "execution_count": 143,
   "metadata": {},
   "outputs": [],
   "source": [
    "# What proportion of words are standard english words?\n",
    "count_trans = tx.CountVectorizer(strip_accents='unicode').fit(df['review'])\n",
    "count_vect = count_trans.transform(df['review'])\n"
   ]
  },
  {
   "cell_type": "code",
   "execution_count": 147,
   "metadata": {},
   "outputs": [
    {
     "data": {
      "image/png": "[encoded data removed]",
      "text/plain": [
       "<Figure size 432x288 with 1 Axes>"
      ]
     },
     "metadata": {
      "needs_background": "light"
     },
     "output_type": "display_data"
    }
   ],
   "source": [
    "df['word_count'] = count_vect.sum(axis=1)\n",
    "df['word_count'].plot.hist('Histogram of Words per Review');"
   ]
  },
  {
   "cell_type": "code",
   "execution_count": 148,
   "metadata": {},
   "outputs": [
    {
     "data": {
      "text/plain": [
       "count    250874.000000\n",
       "mean        110.026045\n",
       "std         100.769863\n",
       "min           0.000000\n",
       "25%          42.000000\n",
       "50%          81.000000\n",
       "75%         145.000000\n",
       "max        1472.000000\n",
       "Name: word_count, dtype: float64"
      ]
     },
     "execution_count": 148,
     "metadata": {},
     "output_type": "execute_result"
    }
   ],
   "source": [
    "df['word_count'].describe()"
   ]
  },
  {
   "cell_type": "markdown",
   "metadata": {},
   "source": [
    "**Question:** How to handle reviews w/ out any text?"
   ]
  },
  {
   "cell_type": "code",
   "execution_count": 154,
   "metadata": {},
   "outputs": [],
   "source": [
    "vocab = pd.DataFrame(count_vect.sum(axis=0).T, columns=['count'], index=count_trans.get_feature_names())"
   ]
  },
  {
   "cell_type": "code",
   "execution_count": 163,
   "metadata": {},
   "outputs": [],
   "source": [
    "vocab['pct_words'] = 100*vocab['count']/vocab['count'].sum()"
   ]
  },
  {
   "cell_type": "code",
   "execution_count": 158,
   "metadata": {},
   "outputs": [],
   "source": [
    "vocab['ndocs'] = np.sum(count_vect >= 1, axis=0).T"
   ]
  },
  {
   "cell_type": "code",
   "execution_count": 166,
   "metadata": {},
   "outputs": [],
   "source": [
    "vocab['pct_docs'] = 100*vocab['ndocs']/len(df)"
   ]
  },
  {
   "cell_type": "code",
   "execution_count": 167,
   "metadata": {},
   "outputs": [
    {
     "data": {
      "text/html": [
       "<div>\n",
       "<style scoped>\n",
       "    .dataframe tbody tr th:only-of-type {\n",
       "        vertical-align: middle;\n",
       "    }\n",
       "\n",
       "    .dataframe tbody tr th {\n",
       "        vertical-align: top;\n",
       "    }\n",
       "\n",
       "    .dataframe thead th {\n",
       "        text-align: right;\n",
       "    }\n",
       "</style>\n",
       "<table border=\"1\" class=\"dataframe\">\n",
       "  <thead>\n",
       "    <tr style=\"text-align: right;\">\n",
       "      <th></th>\n",
       "      <th>count</th>\n",
       "      <th>pct_words</th>\n",
       "      <th>ndocs</th>\n",
       "      <th>pct_docs</th>\n",
       "    </tr>\n",
       "  </thead>\n",
       "  <tbody>\n",
       "    <tr>\n",
       "      <th>count</th>\n",
       "      <td>1.078130e+05</td>\n",
       "      <td>107813.000000</td>\n",
       "      <td>107813.000000</td>\n",
       "      <td>107813.000000</td>\n",
       "    </tr>\n",
       "    <tr>\n",
       "      <th>mean</th>\n",
       "      <td>2.560236e+02</td>\n",
       "      <td>0.000928</td>\n",
       "      <td>174.731646</td>\n",
       "      <td>0.069649</td>\n",
       "    </tr>\n",
       "    <tr>\n",
       "      <th>std</th>\n",
       "      <td>7.676597e+03</td>\n",
       "      <td>0.027811</td>\n",
       "      <td>2690.796830</td>\n",
       "      <td>1.072569</td>\n",
       "    </tr>\n",
       "    <tr>\n",
       "      <th>min</th>\n",
       "      <td>1.000000e+00</td>\n",
       "      <td>0.000004</td>\n",
       "      <td>1.000000</td>\n",
       "      <td>0.000399</td>\n",
       "    </tr>\n",
       "    <tr>\n",
       "      <th>25%</th>\n",
       "      <td>1.000000e+00</td>\n",
       "      <td>0.000004</td>\n",
       "      <td>1.000000</td>\n",
       "      <td>0.000399</td>\n",
       "    </tr>\n",
       "    <tr>\n",
       "      <th>50%</th>\n",
       "      <td>2.000000e+00</td>\n",
       "      <td>0.000007</td>\n",
       "      <td>2.000000</td>\n",
       "      <td>0.000797</td>\n",
       "    </tr>\n",
       "    <tr>\n",
       "      <th>75%</th>\n",
       "      <td>8.000000e+00</td>\n",
       "      <td>0.000029</td>\n",
       "      <td>8.000000</td>\n",
       "      <td>0.003189</td>\n",
       "    </tr>\n",
       "    <tr>\n",
       "      <th>max</th>\n",
       "      <td>1.619924e+06</td>\n",
       "      <td>5.868721</td>\n",
       "      <td>228010.000000</td>\n",
       "      <td>90.886262</td>\n",
       "    </tr>\n",
       "  </tbody>\n",
       "</table>\n",
       "</div>"
      ],
      "text/plain": [
       "              count      pct_words          ndocs       pct_docs\n",
       "count  1.078130e+05  107813.000000  107813.000000  107813.000000\n",
       "mean   2.560236e+02       0.000928     174.731646       0.069649\n",
       "std    7.676597e+03       0.027811    2690.796830       1.072569\n",
       "min    1.000000e+00       0.000004       1.000000       0.000399\n",
       "25%    1.000000e+00       0.000004       1.000000       0.000399\n",
       "50%    2.000000e+00       0.000007       2.000000       0.000797\n",
       "75%    8.000000e+00       0.000029       8.000000       0.003189\n",
       "max    1.619924e+06       5.868721  228010.000000      90.886262"
      ]
     },
     "execution_count": 167,
     "metadata": {},
     "output_type": "execute_result"
    }
   ],
   "source": [
    "vocab.describe()"
   ]
  },
  {
   "cell_type": "code",
   "execution_count": 164,
   "metadata": {},
   "outputs": [
    {
     "data": {
      "image/png": "[encoded data removed]",
      "text/plain": [
       "<Figure size 432x288 with 1 Axes>"
      ]
     },
     "metadata": {
      "needs_background": "light"
     },
     "output_type": "display_data"
    }
   ],
   "source": [
    "vocab['pct_words'].plot.hist('Histogram of Word Frequency');"
   ]
  },
  {
   "cell_type": "code",
   "execution_count": 168,
   "metadata": {},
   "outputs": [
    {
     "data": {
      "image/png": "[encoded data removed]",
      "text/plain": [
       "<Figure size 432x288 with 1 Axes>"
      ]
     },
     "metadata": {
      "needs_background": "light"
     },
     "output_type": "display_data"
    }
   ],
   "source": [
    "vocab['pct_docs'].plot.hist('Histogram of Doc Frequency');"
   ]
  },
  {
   "cell_type": "code",
   "execution_count": null,
   "metadata": {},
   "outputs": [],
   "source": []
  },
  {
   "cell_type": "markdown",
   "metadata": {},
   "source": [
    "### Language Detection"
   ]
  },
  {
   "cell_type": "code",
   "execution_count": 6,
   "metadata": {},
   "outputs": [],
   "source": []
  },
  {
   "cell_type": "code",
   "execution_count": 32,
   "metadata": {},
   "outputs": [],
   "source": [
    "def lang_detect (z):\n",
    "    try:\n",
    "        out = ld.detect_langs(z)[0]\n",
    "    except:\n",
    "        out = None\n",
    "    return out\n",
    "    "
   ]
  },
  {
   "cell_type": "code",
   "execution_count": 33,
   "metadata": {},
   "outputs": [],
   "source": [
    "df['lang'] = df['review'].apply(lambda z: lang_detect(z))"
   ]
  },
  {
   "cell_type": "code",
   "execution_count": 54,
   "metadata": {},
   "outputs": [],
   "source": [
    "df = df.drop(columns=['lang']).join(df['lang'].astype('str').str.split(\":\", expand=True)).rename(columns={0:'lang', 1:'lang_conf'})"
   ]
  },
  {
   "cell_type": "code",
   "execution_count": 55,
   "metadata": {
    "scrolled": false
   },
   "outputs": [
    {
     "data": {
      "text/plain": [
       "en       249128\n",
       "it          269\n",
       "af          150\n",
       "so          109\n",
       "nl          105\n",
       "ca          103\n",
       "de          101\n",
       "fr           98\n",
       "no           86\n",
       "da           70\n",
       "cy           69\n",
       "tl           68\n",
       "es           66\n",
       "ro           62\n",
       "tr           59\n",
       "sl           43\n",
       "id           42\n",
       "sw           40\n",
       "hr           27\n",
       "pl           26\n",
       "sv           24\n",
       "None         24\n",
       "et           24\n",
       "pt           19\n",
       "fi           17\n",
       "cs           11\n",
       "hu           10\n",
       "sq           10\n",
       "sk            4\n",
       "ja            3\n",
       "lt            3\n",
       "lv            2\n",
       "zh-cn         1\n",
       "vi            1\n",
       "Name: lang, dtype: int64"
      ]
     },
     "execution_count": 55,
     "metadata": {},
     "output_type": "execute_result"
    }
   ],
   "source": [
    "# Nearly every review is in english\n",
    "df['lang'].value_counts()"
   ]
  },
  {
   "cell_type": "code",
   "execution_count": 118,
   "metadata": {},
   "outputs": [
    {
     "data": {
      "image/png": "[encoded data removed]",
      "text/plain": [
       "<Figure size 432x288 with 1 Axes>"
      ]
     },
     "metadata": {
      "needs_background": "light"
     },
     "output_type": "display_data"
    }
   ],
   "source": [
    "# nearly all data are classified with a high probability\n",
    "\n",
    "pd.cut(df.loc[df['lang'] == 'en', 'lang_conf'], np.arange(0,1.1,0.1).tolist()).value_counts().plot.bar();"
   ]
  },
  {
   "cell_type": "code",
   "execution_count": 126,
   "metadata": {},
   "outputs": [
    {
     "data": {
      "image/png": "[encoded data removed]",
      "text/plain": [
       "<Figure size 432x288 with 1 Axes>"
      ]
     },
     "metadata": {
      "needs_background": "light"
     },
     "output_type": "display_data"
    }
   ],
   "source": [
    "df.loc[df['lang'] == 'en', 'lang_conf'].plot.hist(bins=np.arange(0,1.1,0.1));"
   ]
  },
  {
   "cell_type": "code",
   "execution_count": 131,
   "metadata": {},
   "outputs": [
    {
     "data": {
      "text/plain": [
       "(0.9, 1.0]    247833\n",
       "(0.8, 0.9]       811\n",
       "(0.7, 0.8]       266\n",
       "(0.5, 0.6]       183\n",
       "(0.4, 0.5]        33\n",
       "(0.6, 0.7]         1\n",
       "(0.2, 0.3]         1\n",
       "(0.3, 0.4]         0\n",
       "(0.1, 0.2]         0\n",
       "(0.0, 0.1]         0\n",
       "Name: lang_conf, dtype: int64"
      ]
     },
     "execution_count": 131,
     "metadata": {},
     "output_type": "execute_result"
    }
   ],
   "source": [
    "pd.cut(df.loc[df['lang'] == 'en', 'lang_conf'], bins=np.arange(0,1.1,0.1)).value_counts()"
   ]
  },
  {
   "cell_type": "code",
   "execution_count": 65,
   "metadata": {},
   "outputs": [],
   "source": []
  },
  {
   "cell_type": "code",
   "execution_count": 102,
   "metadata": {},
   "outputs": [],
   "source": [
    "vocab = pd.DataFrame(count_vect.sum(axis=0).T, columns=['word_count'],\n",
    "                      index=count_trans.get_feature_names())"
   ]
  },
  {
   "cell_type": "code",
   "execution_count": 103,
   "metadata": {},
   "outputs": [],
   "source": [
    "vocab.sort_values(by='word_count', ascending=False, inplace=True)\n",
    "vocab.reset_index(inplace=True)\n",
    "vocab.rename(columns={'index':'word'}, inplace=True)"
   ]
  },
  {
   "cell_type": "code",
   "execution_count": 195,
   "metadata": {},
   "outputs": [],
   "source": [
    "vocab['en'] = vocab['word'].apply(lambda z: d.check(z))"
   ]
  },
  {
   "cell_type": "code",
   "execution_count": 142,
   "metadata": {},
   "outputs": [
    {
     "data": {
      "image/png": "[encoded data removed]",
      "text/plain": [
       "<Figure size 432x288 with 1 Axes>"
      ]
     },
     "metadata": {
      "needs_background": "light"
     },
     "output_type": "display_data"
    }
   ],
   "source": [
    "pd.DataFrame(100*vocab.loc[:, ['en','word_count']].groupby('en').sum()/vocab['word_count'].sum()).plot.bar(\n",
    "    title='Percent of Words That Are English');"
   ]
  },
  {
   "cell_type": "code",
   "execution_count": null,
   "metadata": {},
   "outputs": [],
   "source": [
    "# what about the pct of the corpus?"
   ]
  },
  {
   "cell_type": "code",
   "execution_count": 106,
   "metadata": {},
   "outputs": [
    {
     "data": {
      "text/plain": [
       "38.8867761772699"
      ]
     },
     "execution_count": 106,
     "metadata": {},
     "output_type": "execute_result"
    }
   ],
   "source": [
    "100*vocab['en'].sum()/len(vocab)"
   ]
  },
  {
   "cell_type": "markdown",
   "metadata": {},
   "source": [
    "A vast proportion of the words in reviews are not english language (despite our reviews being largely identified as english. This suggests a lot of improper text.\n",
    "\n",
    "It could be interesting to classify our reviews based solely on their proper english words)"
   ]
  },
  {
   "cell_type": "code",
   "execution_count": null,
   "metadata": {},
   "outputs": [],
   "source": []
  },
  {
   "cell_type": "code",
   "execution_count": 114,
   "metadata": {},
   "outputs": [
    {
     "name": "stderr",
     "output_type": "stream",
     "text": [
      "C:\\Users\\tfconnor\\Anaconda3\\envs\\DEFAULT\\lib\\site-packages\\ipykernel_launcher.py:2: RuntimeWarning:\n",
      "\n",
      "invalid value encountered in true_divide\n",
      "\n"
     ]
    },
    {
     "data": {
      "text/plain": [
       "matrix([[ 94.73684211],\n",
       "        [ 95.91836735],\n",
       "        [ 96.77419355],\n",
       "        ...,\n",
       "        [ 96.1038961 ],\n",
       "        [100.        ],\n",
       "        [ 97.39663093]])"
      ]
     },
     "execution_count": 114,
     "metadata": {},
     "output_type": "execute_result"
    }
   ],
   "source": [
    "# How does that distribution look at the document level?\n",
    "en_list = vocab.loc[vocab['en'], 'word'].tolist()\n",
    "en_idx = [count_trans.vocabulary_[x] for x in en_list]"
   ]
  },
  {
   "cell_type": "code",
   "execution_count": 115,
   "metadata": {},
   "outputs": [
    {
     "name": "stderr",
     "output_type": "stream",
     "text": [
      "C:\\Users\\tfconnor\\Anaconda3\\envs\\DEFAULT\\lib\\site-packages\\ipykernel_launcher.py:1: RuntimeWarning:\n",
      "\n",
      "invalid value encountered in true_divide\n",
      "\n"
     ]
    }
   ],
   "source": [
    "df['pct_en'] = 100*count_vect[:, en_idx].sum(axis=1)/count_vect.sum(axis=1)\n"
   ]
  },
  {
   "cell_type": "code",
   "execution_count": 136,
   "metadata": {},
   "outputs": [
    {
     "data": {
      "image/png": "[encoded data removed]",
      "text/plain": [
       "<Figure size 432x288 with 1 Axes>"
      ]
     },
     "metadata": {
      "needs_background": "light"
     },
     "output_type": "display_data"
    }
   ],
   "source": [
    "df['pct_en'].plot.hist(bins=np.arange(0,110,10));"
   ]
  },
  {
   "cell_type": "code",
   "execution_count": 139,
   "metadata": {},
   "outputs": [
    {
     "data": {
      "text/plain": [
       "(90, 100]    94.626386\n",
       "(80, 90]      4.590751\n",
       "(70, 80]      0.500650\n",
       "(60, 70]      0.108421\n",
       "(40, 50]      0.062980\n",
       "(50, 60]      0.030294\n",
       "(30, 40]      0.020329\n",
       "(20, 30]      0.010762\n",
       "(10, 20]      0.003986\n",
       "(0, 10]       0.000000\n",
       "Name: pct_en, dtype: float64"
      ]
     },
     "execution_count": 139,
     "metadata": {},
     "output_type": "execute_result"
    }
   ],
   "source": [
    "100*(pd.cut(df['pct_en'], bins=np.arange(0,110,10)).value_counts()/len(df))"
   ]
  },
  {
   "cell_type": "markdown",
   "metadata": {},
   "source": [
    "About 5% of documents are comprised of less than 90% english words. We can build  feature to help identify if there is a link between proper english and whether a review is fake.\n"
   ]
  },
  {
   "cell_type": "code",
   "execution_count": null,
   "metadata": {},
   "outputs": [],
   "source": []
  },
  {
   "cell_type": "markdown",
   "metadata": {},
   "source": [
    "### Lemmatizatiton & Stemming"
   ]
  },
  {
   "cell_type": "code",
   "execution_count": 171,
   "metadata": {},
   "outputs": [],
   "source": [
    "from nltk.stem import WordNetLemmatizer"
   ]
  },
  {
   "cell_type": "code",
   "execution_count": 183,
   "metadata": {},
   "outputs": [],
   "source": [
    "lem = WordNetLemmatizer()"
   ]
  },
  {
   "cell_type": "code",
   "execution_count": 178,
   "metadata": {},
   "outputs": [],
   "source": [
    "vocab = vocab.reset_index().rename(columns={'index':'word'})"
   ]
  },
  {
   "cell_type": "code",
   "execution_count": 186,
   "metadata": {},
   "outputs": [],
   "source": [
    "vocab['lemma'] = vocab['word'].apply(lambda z: lem.lemmatize(z))"
   ]
  },
  {
   "cell_type": "code",
   "execution_count": 189,
   "metadata": {},
   "outputs": [
    {
     "data": {
      "text/plain": [
       "7.299676291356327"
      ]
     },
     "execution_count": 189,
     "metadata": {},
     "output_type": "execute_result"
    }
   ],
   "source": [
    "100*(1-len(vocab['lemma'].unique())/len(vocab))"
   ]
  },
  {
   "cell_type": "markdown",
   "metadata": {},
   "source": [
    "About 7% of words in the corpus can be lemmatized. This could have a meaningul impact on the dataset"
   ]
  },
  {
   "cell_type": "code",
   "execution_count": null,
   "metadata": {},
   "outputs": [],
   "source": [
    "print(f'{len(vocab['lemma'].unique())})"
   ]
  },
  {
   "cell_type": "code",
   "execution_count": 190,
   "metadata": {},
   "outputs": [],
   "source": [
    "from nltk.stem import PorterStemmer"
   ]
  },
  {
   "cell_type": "code",
   "execution_count": 192,
   "metadata": {},
   "outputs": [],
   "source": [
    "vocab['stems'] = vocab['word'].apply(lambda z: PorterStemmer().stem(z))"
   ]
  },
  {
   "cell_type": "code",
   "execution_count": 193,
   "metadata": {},
   "outputs": [
    {
     "data": {
      "text/plain": [
       "26.32613877732741"
      ]
     },
     "execution_count": 193,
     "metadata": {},
     "output_type": "execute_result"
    }
   ],
   "source": [
    "100*(1-len(vocab['stems'].unique())/len(vocab))"
   ]
  },
  {
   "cell_type": "markdown",
   "metadata": {},
   "source": [
    "A much larger proportion of the corpus can be stemmed. Is this just because they're not english words?"
   ]
  },
  {
   "cell_type": "code",
   "execution_count": 292,
   "metadata": {},
   "outputs": [],
   "source": [
    "vocab_en = vocab.loc[vocab['en'], :]"
   ]
  },
  {
   "cell_type": "code",
   "execution_count": 200,
   "metadata": {},
   "outputs": [
    {
     "data": {
      "text/plain": [
       "16.040548598688133"
      ]
     },
     "execution_count": 200,
     "metadata": {},
     "output_type": "execute_result"
    }
   ],
   "source": [
    "100*(1-len(vocab_en['lemma'].unique())/len(vocab_en))"
   ]
  },
  {
   "cell_type": "code",
   "execution_count": 202,
   "metadata": {},
   "outputs": [
    {
     "data": {
      "text/plain": [
       "45.982110912343465"
      ]
     },
     "execution_count": 202,
     "metadata": {},
     "output_type": "execute_result"
    }
   ],
   "source": [
    "100*(1-len(vocab_en['stems'].unique())/len(vocab_en))"
   ]
  },
  {
   "cell_type": "markdown",
   "metadata": {},
   "source": [
    "Nope, a much larger proportion of english words are stemmed as well"
   ]
  },
  {
   "cell_type": "code",
   "execution_count": 205,
   "metadata": {},
   "outputs": [],
   "source": [
    "only_stems = vocab_en.loc[(vocab_en['word'] == vocab_en['lemma']) &  (vocab_en['word'] != vocab_en['stems']), :]"
   ]
  },
  {
   "cell_type": "code",
   "execution_count": 209,
   "metadata": {},
   "outputs": [
    {
     "data": {
      "text/html": [
       "<div>\n",
       "<style scoped>\n",
       "    .dataframe tbody tr th:only-of-type {\n",
       "        vertical-align: middle;\n",
       "    }\n",
       "\n",
       "    .dataframe tbody tr th {\n",
       "        vertical-align: top;\n",
       "    }\n",
       "\n",
       "    .dataframe thead th {\n",
       "        text-align: right;\n",
       "    }\n",
       "</style>\n",
       "<table border=\"1\" class=\"dataframe\">\n",
       "  <thead>\n",
       "    <tr style=\"text-align: right;\">\n",
       "      <th></th>\n",
       "      <th>word</th>\n",
       "      <th>count</th>\n",
       "      <th>pct_words</th>\n",
       "      <th>ndocs</th>\n",
       "      <th>pct_docs</th>\n",
       "      <th>lemma</th>\n",
       "      <th>stems</th>\n",
       "      <th>en</th>\n",
       "    </tr>\n",
       "  </thead>\n",
       "  <tbody>\n",
       "    <tr>\n",
       "      <th>95801</th>\n",
       "      <td>this</td>\n",
       "      <td>225478</td>\n",
       "      <td>0.816870</td>\n",
       "      <td>126721</td>\n",
       "      <td>50.511811</td>\n",
       "      <td>this</td>\n",
       "      <td>thi</td>\n",
       "      <td>True</td>\n",
       "    </tr>\n",
       "    <tr>\n",
       "      <th>102114</th>\n",
       "      <td>very</td>\n",
       "      <td>108916</td>\n",
       "      <td>0.394585</td>\n",
       "      <td>71256</td>\n",
       "      <td>28.403103</td>\n",
       "      <td>very</td>\n",
       "      <td>veri</td>\n",
       "      <td>True</td>\n",
       "    </tr>\n",
       "    <tr>\n",
       "      <th>77744</th>\n",
       "      <td>really</td>\n",
       "      <td>85773</td>\n",
       "      <td>0.310742</td>\n",
       "      <td>59072</td>\n",
       "      <td>23.546482</td>\n",
       "      <td>really</td>\n",
       "      <td>realli</td>\n",
       "      <td>True</td>\n",
       "    </tr>\n",
       "    <tr>\n",
       "      <th>84727</th>\n",
       "      <td>service</td>\n",
       "      <td>75722</td>\n",
       "      <td>0.274328</td>\n",
       "      <td>65098</td>\n",
       "      <td>25.948484</td>\n",
       "      <td>service</td>\n",
       "      <td>servic</td>\n",
       "      <td>True</td>\n",
       "    </tr>\n",
       "    <tr>\n",
       "      <th>27341</th>\n",
       "      <td>delicious</td>\n",
       "      <td>67721</td>\n",
       "      <td>0.245342</td>\n",
       "      <td>56005</td>\n",
       "      <td>22.323955</td>\n",
       "      <td>delicious</td>\n",
       "      <td>delici</td>\n",
       "      <td>True</td>\n",
       "    </tr>\n",
       "    <tr>\n",
       "      <th>...</th>\n",
       "      <td>...</td>\n",
       "      <td>...</td>\n",
       "      <td>...</td>\n",
       "      <td>...</td>\n",
       "      <td>...</td>\n",
       "      <td>...</td>\n",
       "      <td>...</td>\n",
       "      <td>...</td>\n",
       "    </tr>\n",
       "    <tr>\n",
       "      <th>61450</th>\n",
       "      <td>misanthropy</td>\n",
       "      <td>1</td>\n",
       "      <td>0.000004</td>\n",
       "      <td>1</td>\n",
       "      <td>0.000399</td>\n",
       "      <td>misanthropy</td>\n",
       "      <td>misanthropi</td>\n",
       "      <td>True</td>\n",
       "    </tr>\n",
       "    <tr>\n",
       "      <th>61449</th>\n",
       "      <td>misanthropic</td>\n",
       "      <td>1</td>\n",
       "      <td>0.000004</td>\n",
       "      <td>1</td>\n",
       "      <td>0.000399</td>\n",
       "      <td>misanthropic</td>\n",
       "      <td>misanthrop</td>\n",
       "      <td>True</td>\n",
       "    </tr>\n",
       "    <tr>\n",
       "      <th>61448</th>\n",
       "      <td>misanthrope</td>\n",
       "      <td>1</td>\n",
       "      <td>0.000004</td>\n",
       "      <td>1</td>\n",
       "      <td>0.000399</td>\n",
       "      <td>misanthrope</td>\n",
       "      <td>misanthrop</td>\n",
       "      <td>True</td>\n",
       "    </tr>\n",
       "    <tr>\n",
       "      <th>61447</th>\n",
       "      <td>misaligned</td>\n",
       "      <td>1</td>\n",
       "      <td>0.000004</td>\n",
       "      <td>1</td>\n",
       "      <td>0.000399</td>\n",
       "      <td>misaligned</td>\n",
       "      <td>misalign</td>\n",
       "      <td>True</td>\n",
       "    </tr>\n",
       "    <tr>\n",
       "      <th>107693</th>\n",
       "      <td>zygote</td>\n",
       "      <td>1</td>\n",
       "      <td>0.000004</td>\n",
       "      <td>1</td>\n",
       "      <td>0.000399</td>\n",
       "      <td>zygote</td>\n",
       "      <td>zygot</td>\n",
       "      <td>True</td>\n",
       "    </tr>\n",
       "  </tbody>\n",
       "</table>\n",
       "<p>21582 rows × 8 columns</p>\n",
       "</div>"
      ],
      "text/plain": [
       "                word   count  pct_words   ndocs   pct_docs         lemma  \\\n",
       "95801           this  225478   0.816870  126721  50.511811          this   \n",
       "102114          very  108916   0.394585   71256  28.403103          very   \n",
       "77744         really   85773   0.310742   59072  23.546482        really   \n",
       "84727        service   75722   0.274328   65098  25.948484       service   \n",
       "27341      delicious   67721   0.245342   56005  22.323955     delicious   \n",
       "...              ...     ...        ...     ...        ...           ...   \n",
       "61450    misanthropy       1   0.000004       1   0.000399   misanthropy   \n",
       "61449   misanthropic       1   0.000004       1   0.000399  misanthropic   \n",
       "61448    misanthrope       1   0.000004       1   0.000399   misanthrope   \n",
       "61447     misaligned       1   0.000004       1   0.000399    misaligned   \n",
       "107693        zygote       1   0.000004       1   0.000399        zygote   \n",
       "\n",
       "              stems    en  \n",
       "95801           thi  True  \n",
       "102114         veri  True  \n",
       "77744        realli  True  \n",
       "84727        servic  True  \n",
       "27341        delici  True  \n",
       "...             ...   ...  \n",
       "61450   misanthropi  True  \n",
       "61449    misanthrop  True  \n",
       "61448    misanthrop  True  \n",
       "61447      misalign  True  \n",
       "107693        zygot  True  \n",
       "\n",
       "[21582 rows x 8 columns]"
      ]
     },
     "execution_count": 209,
     "metadata": {},
     "output_type": "execute_result"
    }
   ],
   "source": [
    "only_stems.sort_values(by='count', ascending=False)"
   ]
  },
  {
   "cell_type": "markdown",
   "metadata": {},
   "source": [
    "The porter stemmer does not seem to effectively group all similar words, while lemmatizer does not group many words (despite clear similarities). We'll try the snowballstemmer next:\n",
    "https://stackabuse.com/python-for-nlp-tokenization-stemming-and-lemmatization-with-spacy-library/"
   ]
  },
  {
   "cell_type": "code",
   "execution_count": 290,
   "metadata": {},
   "outputs": [],
   "source": [
    "from nltk.stem import SnowballStemmer"
   ]
  },
  {
   "cell_type": "code",
   "execution_count": 291,
   "metadata": {},
   "outputs": [],
   "source": [
    "vocab['snow_stems'] = vocab['word'].apply(lambda z: SnowballStemmer(language='english').stem(z))"
   ]
  },
  {
   "cell_type": "code",
   "execution_count": 293,
   "metadata": {},
   "outputs": [
    {
     "data": {
      "text/plain": [
       "47.40846750149076"
      ]
     },
     "execution_count": 293,
     "metadata": {},
     "output_type": "execute_result"
    }
   ],
   "source": [
    "100*(1-len(vocab_en['snow_stems'].unique())/len(vocab_en))"
   ]
  },
  {
   "cell_type": "code",
   "execution_count": 295,
   "metadata": {},
   "outputs": [],
   "source": [
    "only_stems = vocab_en.loc[(vocab_en['word'] == vocab_en['lemma']) &  (vocab_en['word'] != vocab_en['stems']), :]"
   ]
  },
  {
   "cell_type": "code",
   "execution_count": 296,
   "metadata": {},
   "outputs": [
    {
     "data": {
      "text/html": [
       "<div>\n",
       "<style scoped>\n",
       "    .dataframe tbody tr th:only-of-type {\n",
       "        vertical-align: middle;\n",
       "    }\n",
       "\n",
       "    .dataframe tbody tr th {\n",
       "        vertical-align: top;\n",
       "    }\n",
       "\n",
       "    .dataframe thead th {\n",
       "        text-align: right;\n",
       "    }\n",
       "</style>\n",
       "<table border=\"1\" class=\"dataframe\">\n",
       "  <thead>\n",
       "    <tr style=\"text-align: right;\">\n",
       "      <th></th>\n",
       "      <th>word</th>\n",
       "      <th>count</th>\n",
       "      <th>pct_words</th>\n",
       "      <th>ndocs</th>\n",
       "      <th>pct_docs</th>\n",
       "      <th>lemma</th>\n",
       "      <th>stems</th>\n",
       "      <th>en</th>\n",
       "      <th>snow_stems</th>\n",
       "    </tr>\n",
       "  </thead>\n",
       "  <tbody>\n",
       "    <tr>\n",
       "      <th>95801</th>\n",
       "      <td>this</td>\n",
       "      <td>225478</td>\n",
       "      <td>0.816870</td>\n",
       "      <td>126721</td>\n",
       "      <td>50.511811</td>\n",
       "      <td>this</td>\n",
       "      <td>thi</td>\n",
       "      <td>True</td>\n",
       "      <td>this</td>\n",
       "    </tr>\n",
       "    <tr>\n",
       "      <th>102114</th>\n",
       "      <td>very</td>\n",
       "      <td>108916</td>\n",
       "      <td>0.394585</td>\n",
       "      <td>71256</td>\n",
       "      <td>28.403103</td>\n",
       "      <td>very</td>\n",
       "      <td>veri</td>\n",
       "      <td>True</td>\n",
       "      <td>veri</td>\n",
       "    </tr>\n",
       "    <tr>\n",
       "      <th>77744</th>\n",
       "      <td>really</td>\n",
       "      <td>85773</td>\n",
       "      <td>0.310742</td>\n",
       "      <td>59072</td>\n",
       "      <td>23.546482</td>\n",
       "      <td>really</td>\n",
       "      <td>realli</td>\n",
       "      <td>True</td>\n",
       "      <td>realli</td>\n",
       "    </tr>\n",
       "    <tr>\n",
       "      <th>84727</th>\n",
       "      <td>service</td>\n",
       "      <td>75722</td>\n",
       "      <td>0.274328</td>\n",
       "      <td>65098</td>\n",
       "      <td>25.948484</td>\n",
       "      <td>service</td>\n",
       "      <td>servic</td>\n",
       "      <td>True</td>\n",
       "      <td>servic</td>\n",
       "    </tr>\n",
       "    <tr>\n",
       "      <th>27341</th>\n",
       "      <td>delicious</td>\n",
       "      <td>67721</td>\n",
       "      <td>0.245342</td>\n",
       "      <td>56005</td>\n",
       "      <td>22.323955</td>\n",
       "      <td>delicious</td>\n",
       "      <td>delici</td>\n",
       "      <td>True</td>\n",
       "      <td>delici</td>\n",
       "    </tr>\n",
       "    <tr>\n",
       "      <th>...</th>\n",
       "      <td>...</td>\n",
       "      <td>...</td>\n",
       "      <td>...</td>\n",
       "      <td>...</td>\n",
       "      <td>...</td>\n",
       "      <td>...</td>\n",
       "      <td>...</td>\n",
       "      <td>...</td>\n",
       "      <td>...</td>\n",
       "    </tr>\n",
       "    <tr>\n",
       "      <th>61450</th>\n",
       "      <td>misanthropy</td>\n",
       "      <td>1</td>\n",
       "      <td>0.000004</td>\n",
       "      <td>1</td>\n",
       "      <td>0.000399</td>\n",
       "      <td>misanthropy</td>\n",
       "      <td>misanthropi</td>\n",
       "      <td>True</td>\n",
       "      <td>misanthropi</td>\n",
       "    </tr>\n",
       "    <tr>\n",
       "      <th>61449</th>\n",
       "      <td>misanthropic</td>\n",
       "      <td>1</td>\n",
       "      <td>0.000004</td>\n",
       "      <td>1</td>\n",
       "      <td>0.000399</td>\n",
       "      <td>misanthropic</td>\n",
       "      <td>misanthrop</td>\n",
       "      <td>True</td>\n",
       "      <td>misanthrop</td>\n",
       "    </tr>\n",
       "    <tr>\n",
       "      <th>61448</th>\n",
       "      <td>misanthrope</td>\n",
       "      <td>1</td>\n",
       "      <td>0.000004</td>\n",
       "      <td>1</td>\n",
       "      <td>0.000399</td>\n",
       "      <td>misanthrope</td>\n",
       "      <td>misanthrop</td>\n",
       "      <td>True</td>\n",
       "      <td>misanthrop</td>\n",
       "    </tr>\n",
       "    <tr>\n",
       "      <th>61447</th>\n",
       "      <td>misaligned</td>\n",
       "      <td>1</td>\n",
       "      <td>0.000004</td>\n",
       "      <td>1</td>\n",
       "      <td>0.000399</td>\n",
       "      <td>misaligned</td>\n",
       "      <td>misalign</td>\n",
       "      <td>True</td>\n",
       "      <td>misalign</td>\n",
       "    </tr>\n",
       "    <tr>\n",
       "      <th>107693</th>\n",
       "      <td>zygote</td>\n",
       "      <td>1</td>\n",
       "      <td>0.000004</td>\n",
       "      <td>1</td>\n",
       "      <td>0.000399</td>\n",
       "      <td>zygote</td>\n",
       "      <td>zygot</td>\n",
       "      <td>True</td>\n",
       "      <td>zygot</td>\n",
       "    </tr>\n",
       "  </tbody>\n",
       "</table>\n",
       "<p>21582 rows × 9 columns</p>\n",
       "</div>"
      ],
      "text/plain": [
       "                word   count  pct_words   ndocs   pct_docs         lemma  \\\n",
       "95801           this  225478   0.816870  126721  50.511811          this   \n",
       "102114          very  108916   0.394585   71256  28.403103          very   \n",
       "77744         really   85773   0.310742   59072  23.546482        really   \n",
       "84727        service   75722   0.274328   65098  25.948484       service   \n",
       "27341      delicious   67721   0.245342   56005  22.323955     delicious   \n",
       "...              ...     ...        ...     ...        ...           ...   \n",
       "61450    misanthropy       1   0.000004       1   0.000399   misanthropy   \n",
       "61449   misanthropic       1   0.000004       1   0.000399  misanthropic   \n",
       "61448    misanthrope       1   0.000004       1   0.000399   misanthrope   \n",
       "61447     misaligned       1   0.000004       1   0.000399    misaligned   \n",
       "107693        zygote       1   0.000004       1   0.000399        zygote   \n",
       "\n",
       "              stems    en   snow_stems  \n",
       "95801           thi  True         this  \n",
       "102114         veri  True         veri  \n",
       "77744        realli  True       realli  \n",
       "84727        servic  True       servic  \n",
       "27341        delici  True       delici  \n",
       "...             ...   ...          ...  \n",
       "61450   misanthropi  True  misanthropi  \n",
       "61449    misanthrop  True   misanthrop  \n",
       "61448    misanthrop  True   misanthrop  \n",
       "61447      misalign  True     misalign  \n",
       "107693        zygot  True        zygot  \n",
       "\n",
       "[21582 rows x 9 columns]"
      ]
     },
     "execution_count": 296,
     "metadata": {},
     "output_type": "execute_result"
    }
   ],
   "source": [
    "only_stems.sort_values(by='count', ascending=False)"
   ]
  },
  {
   "cell_type": "code",
   "execution_count": 298,
   "metadata": {},
   "outputs": [],
   "source": [
    "stem_diffs = vocab_en.loc[(vocab_en['stems'] != vocab_en['snow_stems']), :]"
   ]
  },
  {
   "cell_type": "code",
   "execution_count": 299,
   "metadata": {},
   "outputs": [
    {
     "data": {
      "text/plain": [
       "989"
      ]
     },
     "execution_count": 299,
     "metadata": {},
     "output_type": "execute_result"
    }
   ],
   "source": [
    "len(stem_diffs)"
   ]
  },
  {
   "cell_type": "code",
   "execution_count": 300,
   "metadata": {},
   "outputs": [
    {
     "data": {
      "text/html": [
       "<div>\n",
       "<style scoped>\n",
       "    .dataframe tbody tr th:only-of-type {\n",
       "        vertical-align: middle;\n",
       "    }\n",
       "\n",
       "    .dataframe tbody tr th {\n",
       "        vertical-align: top;\n",
       "    }\n",
       "\n",
       "    .dataframe thead th {\n",
       "        text-align: right;\n",
       "    }\n",
       "</style>\n",
       "<table border=\"1\" class=\"dataframe\">\n",
       "  <thead>\n",
       "    <tr style=\"text-align: right;\">\n",
       "      <th></th>\n",
       "      <th>word</th>\n",
       "      <th>count</th>\n",
       "      <th>pct_words</th>\n",
       "      <th>ndocs</th>\n",
       "      <th>pct_docs</th>\n",
       "      <th>lemma</th>\n",
       "      <th>stems</th>\n",
       "      <th>en</th>\n",
       "      <th>snow_stems</th>\n",
       "    </tr>\n",
       "  </thead>\n",
       "  <tbody>\n",
       "    <tr>\n",
       "      <th>2608</th>\n",
       "      <td>TM</td>\n",
       "      <td>2</td>\n",
       "      <td>0.000007</td>\n",
       "      <td>2</td>\n",
       "      <td>0.000797</td>\n",
       "      <td>TM</td>\n",
       "      <td>TM</td>\n",
       "      <td>True</td>\n",
       "      <td>tm</td>\n",
       "    </tr>\n",
       "    <tr>\n",
       "      <th>2904</th>\n",
       "      <td>abacus</td>\n",
       "      <td>1</td>\n",
       "      <td>0.000004</td>\n",
       "      <td>1</td>\n",
       "      <td>0.000399</td>\n",
       "      <td>abacus</td>\n",
       "      <td>abacu</td>\n",
       "      <td>True</td>\n",
       "      <td>abacus</td>\n",
       "    </tr>\n",
       "    <tr>\n",
       "      <th>3090</th>\n",
       "      <td>abruptly</td>\n",
       "      <td>43</td>\n",
       "      <td>0.000156</td>\n",
       "      <td>43</td>\n",
       "      <td>0.017140</td>\n",
       "      <td>abruptly</td>\n",
       "      <td>abruptli</td>\n",
       "      <td>True</td>\n",
       "      <td>abrupt</td>\n",
       "    </tr>\n",
       "    <tr>\n",
       "      <th>3111</th>\n",
       "      <td>absentmindedly</td>\n",
       "      <td>3</td>\n",
       "      <td>0.000011</td>\n",
       "      <td>3</td>\n",
       "      <td>0.001196</td>\n",
       "      <td>absentmindedly</td>\n",
       "      <td>absentmindedli</td>\n",
       "      <td>True</td>\n",
       "      <td>absentmind</td>\n",
       "    </tr>\n",
       "    <tr>\n",
       "      <th>3158</th>\n",
       "      <td>absorbingly</td>\n",
       "      <td>1</td>\n",
       "      <td>0.000004</td>\n",
       "      <td>1</td>\n",
       "      <td>0.000399</td>\n",
       "      <td>absorbingly</td>\n",
       "      <td>absorbingli</td>\n",
       "      <td>True</td>\n",
       "      <td>absorb</td>\n",
       "    </tr>\n",
       "    <tr>\n",
       "      <th>...</th>\n",
       "      <td>...</td>\n",
       "      <td>...</td>\n",
       "      <td>...</td>\n",
       "      <td>...</td>\n",
       "      <td>...</td>\n",
       "      <td>...</td>\n",
       "      <td>...</td>\n",
       "      <td>...</td>\n",
       "      <td>...</td>\n",
       "    </tr>\n",
       "    <tr>\n",
       "      <th>106540</th>\n",
       "      <td>yes</td>\n",
       "      <td>11565</td>\n",
       "      <td>0.041898</td>\n",
       "      <td>9555</td>\n",
       "      <td>3.808685</td>\n",
       "      <td>yes</td>\n",
       "      <td>ye</td>\n",
       "      <td>True</td>\n",
       "      <td>yes</td>\n",
       "    </tr>\n",
       "    <tr>\n",
       "      <th>106822</th>\n",
       "      <td>yous</td>\n",
       "      <td>18</td>\n",
       "      <td>0.000065</td>\n",
       "      <td>18</td>\n",
       "      <td>0.007175</td>\n",
       "      <td>yous</td>\n",
       "      <td>you</td>\n",
       "      <td>True</td>\n",
       "      <td>yous</td>\n",
       "    </tr>\n",
       "    <tr>\n",
       "      <th>106862</th>\n",
       "      <td>yrs</td>\n",
       "      <td>109</td>\n",
       "      <td>0.000395</td>\n",
       "      <td>108</td>\n",
       "      <td>0.043049</td>\n",
       "      <td>yr</td>\n",
       "      <td>yr</td>\n",
       "      <td>True</td>\n",
       "      <td>yrs</td>\n",
       "    </tr>\n",
       "    <tr>\n",
       "      <th>106939</th>\n",
       "      <td>yukking</td>\n",
       "      <td>1</td>\n",
       "      <td>0.000004</td>\n",
       "      <td>1</td>\n",
       "      <td>0.000399</td>\n",
       "      <td>yukking</td>\n",
       "      <td>yuk</td>\n",
       "      <td>True</td>\n",
       "      <td>yukk</td>\n",
       "    </tr>\n",
       "    <tr>\n",
       "      <th>107376</th>\n",
       "      <td>zealous</td>\n",
       "      <td>17</td>\n",
       "      <td>0.000062</td>\n",
       "      <td>17</td>\n",
       "      <td>0.006776</td>\n",
       "      <td>zealous</td>\n",
       "      <td>zealou</td>\n",
       "      <td>True</td>\n",
       "      <td>zealous</td>\n",
       "    </tr>\n",
       "  </tbody>\n",
       "</table>\n",
       "<p>989 rows × 9 columns</p>\n",
       "</div>"
      ],
      "text/plain": [
       "                  word  count  pct_words  ndocs  pct_docs           lemma  \\\n",
       "2608                TM      2   0.000007      2  0.000797              TM   \n",
       "2904            abacus      1   0.000004      1  0.000399          abacus   \n",
       "3090          abruptly     43   0.000156     43  0.017140        abruptly   \n",
       "3111    absentmindedly      3   0.000011      3  0.001196  absentmindedly   \n",
       "3158       absorbingly      1   0.000004      1  0.000399     absorbingly   \n",
       "...                ...    ...        ...    ...       ...             ...   \n",
       "106540             yes  11565   0.041898   9555  3.808685             yes   \n",
       "106822            yous     18   0.000065     18  0.007175            yous   \n",
       "106862             yrs    109   0.000395    108  0.043049              yr   \n",
       "106939         yukking      1   0.000004      1  0.000399         yukking   \n",
       "107376         zealous     17   0.000062     17  0.006776         zealous   \n",
       "\n",
       "                 stems    en  snow_stems  \n",
       "2608                TM  True          tm  \n",
       "2904             abacu  True      abacus  \n",
       "3090          abruptli  True      abrupt  \n",
       "3111    absentmindedli  True  absentmind  \n",
       "3158       absorbingli  True      absorb  \n",
       "...                ...   ...         ...  \n",
       "106540              ye  True         yes  \n",
       "106822             you  True        yous  \n",
       "106862              yr  True         yrs  \n",
       "106939             yuk  True        yukk  \n",
       "107376          zealou  True     zealous  \n",
       "\n",
       "[989 rows x 9 columns]"
      ]
     },
     "execution_count": 300,
     "metadata": {},
     "output_type": "execute_result"
    }
   ],
   "source": [
    "stem_diffs"
   ]
  },
  {
   "cell_type": "code",
   "execution_count": null,
   "metadata": {},
   "outputs": [],
   "source": []
  },
  {
   "cell_type": "code",
   "execution_count": null,
   "metadata": {},
   "outputs": [],
   "source": []
  }
 ],
 "metadata": {
  "kernelspec": {
   "display_name": "Python [conda env:DEFAULT]",
   "language": "python",
   "name": "conda-env-DEFAULT-py"
  },
  "language_info": {
   "codemirror_mode": {
    "name": "ipython",
    "version": 3
   },
   "file_extension": ".py",
   "mimetype": "text/x-python",
   "name": "python",
   "nbconvert_exporter": "python",
   "pygments_lexer": "ipython3",
   "version": "3.7.7"
  }
 },
 "nbformat": 4,
 "nbformat_minor": 2
}
